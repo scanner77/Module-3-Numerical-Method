{
  "nbformat": 4,
  "nbformat_minor": 0,
  "metadata": {
    "colab": {
      "name": "DiscussionBoard3.ipynb",
      "provenance": [],
      "collapsed_sections": []
    },
    "kernelspec": {
      "name": "python3",
      "display_name": "Python 3"
    }
  },
  "cells": [
    {
      "cell_type": "markdown",
      "metadata": {
        "id": "BYgkLn5sMiPQ"
      },
      "source": [
        "**Discussion Board 3** <br>\r\n",
        "**Solving the cubic equation**"
      ]
    },
    {
      "cell_type": "code",
      "metadata": {
        "colab": {
          "base_uri": "https://localhost:8080/"
        },
        "id": "ptliEeyDF8xY",
        "outputId": "40ea6ca9-71fb-4a70-a52a-b0499b83d636"
      },
      "source": [
        "import numpy as np\r\n",
        "from scipy.misc import derivative\r\n",
        "\r\n",
        "a = 1\r\n",
        "x = np.linspace(-1, 1, 100)\r\n",
        "\r\n",
        "def first(x):\r\n",
        "  return 3*x**3+3*x+3\r\n",
        "\r\n",
        "def second(first, x, a):\r\n",
        "  slope = derivative(first, a, dx=1)\r\n",
        "  return a - first(a)/slope\r\n",
        "\r\n",
        "for i in range(20):\r\n",
        "  print(a)\r\n",
        "  a = second(first, x, a)"
      ],
      "execution_count": null,
      "outputs": [
        {
          "output_type": "stream",
          "text": [
            "1\n",
            "0.4\n",
            "-0.1903225806451615\n",
            "-0.5710289810477127\n",
            "-0.6525451459658921\n",
            "-0.6737785221832262\n",
            "-0.6798289681303056\n",
            "-0.6815936879268241\n",
            "-0.6821118120230486\n",
            "-0.6822642269247279\n",
            "-0.6823090876491472\n",
            "-0.6823222938305034\n",
            "-0.6823261816801272\n",
            "-0.6823273262647559\n",
            "-0.6823276632323984\n",
            "-0.6823277624363635\n",
            "-0.682327791642225\n",
            "-0.6823278002404947\n",
            "-0.6823278027718441\n",
            "-0.682327803517079\n"
          ],
          "name": "stdout"
        }
      ]
    },
    {
      "cell_type": "markdown",
      "metadata": {
        "id": "py_btVulY_ku"
      },
      "source": [
        "I'm creating a graph below for a cubical equation <br> y = x**3"
      ]
    },
    {
      "cell_type": "code",
      "metadata": {
        "colab": {
          "base_uri": "https://localhost:8080/",
          "height": 295
        },
        "id": "iVvv8asiNEzn",
        "outputId": "eb849379-3aee-427a-e8e0-5318725e5b3f"
      },
      "source": [
        "import matplotlib.pyplot as plt\r\n",
        "import numpy as np\r\n",
        "\r\n",
        "\r\n",
        "x = np.linspace(-5,5,100) #creating a space for numbers till 100\r\n",
        "\r\n",
        "\r\n",
        "y = a*x**3 + b*x**2 + c*x + d; #making a cubic function\r\n",
        "\r\n",
        "# setting the axes at the centre\r\n",
        "fig = plt.figure()\r\n",
        "ax = fig.add_subplot(1, 1, 1)\r\n",
        "\r\n",
        "\r\n",
        "#labelling\r\n",
        "plt.xlabel('X-axis')\r\n",
        "plt.ylabel('Y-axis')\r\n",
        "plt.title('Cubical Graph')\r\n",
        "plt.grid(True)\r\n",
        "\r\n",
        "\r\n",
        "\r\n",
        "# plot the function\r\n",
        "plt.plot(x,y, 'b')\r\n",
        "\r\n",
        "# show the plot\r\n",
        "plt.show()"
      ],
      "execution_count": null,
      "outputs": [
        {
          "output_type": "display_data",
          "data": {
            "image/png": "[encoded data removed]",
            "text/plain": [
              "<Figure size 432x288 with 1 Axes>"
            ]
          },
          "metadata": {
            "tags": [],
            "needs_background": "light"
          }
        }
      ]
    }
  ]
}